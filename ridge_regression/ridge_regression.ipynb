{
 "cells": [
  {
   "cell_type": "code",
   "execution_count": 9,
   "metadata": {},
   "outputs": [],
   "source": [
    "# Imports:\n",
    "import pandas as pd\n",
    "import matplotlib.pyplot as plt\n",
    "from sklearn.linear_model import Ridge\n",
    "from sklearn.model_selection import train_test_split"
   ]
  },
  {
   "cell_type": "code",
   "execution_count": 10,
   "metadata": {},
   "outputs": [],
   "source": [
    "# Global variables:\n",
    "xls_file = 'ridge_regression_database_income_index.xls'\n",
    "start_year_index = 30 # 1990.\n",
    "end_year_index = 59 # 2018.\n",
    "explained_variable = 'Income Index'"
   ]
  },
  {
   "cell_type": "code",
   "execution_count": 11,
   "metadata": {},
   "outputs": [],
   "source": [
    "# Classes:\n",
    "class Dataset_handler():\n",
    "    '''\n",
    "    '''\n",
    "\n",
    "    def __init__(self):\n",
    "        pass\n",
    "\n",
    "    def read_excel(self, file_name):\n",
    "        return pd.read_excel(file_name)\n",
    "    \n",
    "    def transpose_df(self, df):\n",
    "        df = df.transpose()\n",
    "        df.columns = df.iloc[0] # Sets the header as the first row.\n",
    "        return df.drop(df.index[0]) # Drops the first row.\n",
    "         \n",
    "    def separte_by_year(self, df, start, end):\n",
    "        return df[start:end]\n",
    "    \n",
    "    def nan_to_mean(self, df, axis):\n",
    "        return df.apply(lambda x: x.fillna(x.mean()), axis=axis)\n",
    "    \n",
    "    def drop_column(self, df, column):\n",
    "        return df.drop(columns=df.columns[column])\n",
    "\n",
    "    def plotter(self, df):\n",
    "        return pd.plotting.scatter_matrix(df)\n",
    "    \n",
    "    def df_to_csv(self, df, file_name):\n",
    "        return df.to_csv(path_or_buf=file_name)\n",
    "\n",
    "    \n",
    "class Regression():\n",
    "    '''\n",
    "    '''\n",
    "    def __init__(self, alpha):\n",
    "        self.rdg = Ridge(alpha=alpha)\n",
    "    \n",
    "    def split_data(self, df):\n",
    "        self.x = treated_dataset.drop(columns=[explained_variable])\n",
    "        self.y = treated_dataset[explained_variable]\n",
    "        self.x_train, self.x_test, self.y_train, self.y_test = train_test_split(self.x, self.y, test_size=0.3, random_state=0)\n",
    "        return self.x_train, self.x_test, self.y_train, self.y_test\n",
    "    \n",
    "    def print_ridge_fit(self, x_train, x_test, y_train, y_test):\n",
    "        self.rdg.fit(x_train, y_train)\n",
    "        print(f'Scores: {self.rdg.score(x_test, y_test)}')\n",
    "        print(f'Intercept: {self.rdg.intercept_}')\n",
    "        print(f'Coefficients: {self.rdg.coef_}')\n",
    "\n",
    "    "
   ]
  },
  {
   "cell_type": "code",
   "execution_count": 12,
   "metadata": {},
   "outputs": [
    {
     "name": "stdout",
     "output_type": "stream",
     "text": [
      "Scores: 0.9992441753388789\n",
      "Intercept: 0.608682033726714\n",
      "Coefficients: [-1.10869514e-14 -3.00867122e-04  2.70836771e-14 -5.00691471e-15\n",
      " -1.02051562e-03  1.12772821e-05  1.76968840e-14 -7.64133314e-15\n",
      "  7.11338769e-15]\n"
     ]
    },
    {
     "name": "stderr",
     "output_type": "stream",
     "text": [
      "/home/gagibran/Repositories/Projects/python-mahcine-learning/ridge_regression/venv/lib/python3.9/site-packages/sklearn/linear_model/_ridge.py:147: LinAlgWarning: Ill-conditioned matrix (rcond=4.60445e-24): result may not be accurate.\n",
      "  return linalg.solve(A, Xy, sym_pos=True,\n"
     ]
    }
   ],
   "source": [
    "# Instances:\n",
    "dataset_handler = Dataset_handler()\n",
    "regression = Regression(0.5)\n",
    "\n",
    "# Main program:\n",
    "brazilian_indices = dataset_handler.read_excel(xls_file)\n",
    "indices_transposed = dataset_handler.transpose_df(brazilian_indices)\n",
    "sliced_dataset = dataset_handler.separte_by_year(indices_transposed, start_year_index, end_year_index)\n",
    "treated_dataset = dataset_handler.nan_to_mean(sliced_dataset, 1)\n",
    "x_train, x_test, y_train, y_test = regression.split_data(treated_dataset)\n",
    "regression.print_ridge_fit(x_train, x_test, y_train, y_test)\n",
    "\n",
    "\n",
    "# dataset_handler.plotter(slices)\n",
    "# plt.savefig('myfile.')"
   ]
  },
  {
   "cell_type": "code",
   "execution_count": null,
   "metadata": {},
   "outputs": [],
   "source": []
  },
  {
   "cell_type": "code",
   "execution_count": null,
   "metadata": {},
   "outputs": [],
   "source": []
  }
 ],
 "metadata": {
  "kernelspec": {
   "display_name": "Python 3",
   "language": "python",
   "name": "python3"
  },
  "language_info": {
   "codemirror_mode": {
    "name": "ipython",
    "version": 3
   },
   "file_extension": ".py",
   "mimetype": "text/x-python",
   "name": "python",
   "nbconvert_exporter": "python",
   "pygments_lexer": "ipython3",
   "version": "3.9.0"
  }
 },
 "nbformat": 4,
 "nbformat_minor": 4
}
